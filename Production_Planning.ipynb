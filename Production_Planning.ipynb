{
 "cells": [
  {
   "cell_type": "code",
   "execution_count": 1,
   "metadata": {},
   "outputs": [],
   "source": [
    "from pulp import *"
   ]
  },
  {
   "cell_type": "markdown",
   "metadata": {},
   "source": [
    "### Problem Statement: A company manufactures three products (P1, P2, P3) using two resources (R1, R2). The objective is to determine the production quantities for each product while maximizing profit, subject to resource availability and demand constraints.\n",
    "DVar:\n",
    "\n",
    "x1: Qty of Product P1 to produce \n",
    "\n",
    "x2: Qty of Product P2 to produce\n",
    "\n",
    "x3: Qty of Product P3 to produce\n",
    "\n",
    "\n",
    "Objective Function (Maximize Profit):\n",
    "\n",
    "Maximize Z = 5*x1 + 4*x2 + 3*x3\n",
    "\n",
    "\n",
    "Resource Constraints:\n",
    "\n",
    "Resource R1: 2*x1 + 3*x2 + x3 <=10\n",
    "\n",
    "Resource R2: x1 + 2*x2 + 2*x3 <=8\n",
    "\n",
    "\n",
    "Demand Constraints:\n",
    "\n",
    "Demand for P1: x1 ≤ 4\n",
    "\n",
    "Demand for P2: x2 ≤ 5\n",
    "\n",
    "Demand for P3: x3 ≤ 3\n",
    "\n",
    "\n",
    "Non-Negativity Constraints:\n",
    "\n",
    "x1, x2, x3 ≥ 0"
   ]
  },
  {
   "cell_type": "code",
   "execution_count": 2,
   "metadata": {},
   "outputs": [],
   "source": [
    "model = LpProblem(\"Production_Planning\", LpMaximize)"
   ]
  },
  {
   "cell_type": "code",
   "execution_count": 7,
   "metadata": {},
   "outputs": [],
   "source": [
    "x1 = LpVariable(\"x1\", lowBound=0, cat='Continuous')\n",
    "x2 = LpVariable(\"x2\", lowBound=0, cat='Continuous')\n",
    "x3 = LpVariable(\"x3\", lowBound=0, cat='Continuous')"
   ]
  },
  {
   "cell_type": "code",
   "execution_count": 8,
   "metadata": {},
   "outputs": [
    {
     "name": "stderr",
     "output_type": "stream",
     "text": [
      "c:\\Users\\ehdwn\\anaconda3\\lib\\site-packages\\pulp\\pulp.py:1704: UserWarning: Overwriting previously set objective.\n",
      "  warnings.warn(\"Overwriting previously set objective.\")\n"
     ]
    }
   ],
   "source": [
    "model += 5*x1 + 4*x2 + 3*x3, \"Profit\""
   ]
  },
  {
   "cell_type": "code",
   "execution_count": 11,
   "metadata": {},
   "outputs": [],
   "source": [
    "model += 2*x1 + 3*x2 + x3 <= 10, \"R1\"\n",
    "model += x1 + 2*x2 + 2*x3 <= 8, \"R2\""
   ]
  },
  {
   "cell_type": "code",
   "execution_count": 12,
   "metadata": {},
   "outputs": [],
   "source": [
    "model += x1 <= 4, \"Demand for P1\"\n",
    "model += x2 <= 5, \"Demand for P2\"\n",
    "model += x3 <= 3, \"Demand for P3\""
   ]
  },
  {
   "cell_type": "code",
   "execution_count": 14,
   "metadata": {},
   "outputs": [
    {
     "data": {
      "text/plain": [
       "1"
      ]
     },
     "execution_count": 14,
     "metadata": {},
     "output_type": "execute_result"
    }
   ],
   "source": [
    "model.solve()"
   ]
  },
  {
   "cell_type": "code",
   "execution_count": 15,
   "metadata": {},
   "outputs": [
    {
     "name": "stdout",
     "output_type": "stream",
     "text": [
      "Status: 1\n",
      "Optimal Solution:\n",
      "x1 = 4.0\n",
      "x2 = 0.0\n",
      "x3 = 2.0\n",
      "Optimal Profit = 26.0\n"
     ]
    }
   ],
   "source": [
    "print(\"Status:\", model.status)\n",
    "print(\"Optimal Solution:\")\n",
    "print(\"x1 =\", x1.varValue)\n",
    "print(\"x2 =\", x2.varValue)\n",
    "print(\"x3 =\", x3.varValue)\n",
    "print(\"Optimal Profit =\", model.objective.value())"
   ]
  },
  {
   "cell_type": "markdown",
   "metadata": {},
   "source": [
    "#### model.status\n",
    "0: The optimization problem was successfully solved, and an optimal solution was found. This means that the solver found the best solution that satisfies the objective and constraints.\n",
    "\n",
    "1: The optimization problem was solved, but the solver could not guarantee that the solution is the global optimum. It might be a local optimum or a feasible solution, but not necessarily the best possible.\n",
    "\n",
    "2: The solver was unable to find a feasible solution to the optimization problem. This typically means that the constraints are infeasible, and the problem cannot be solved as formulated.\n",
    "\n",
    "3: The solver was interrupted before completion. This can happen if you set a time limit for the solver, and the solver stopped searching for a solution before finding an optimal one."
   ]
  },
  {
   "cell_type": "code",
   "execution_count": null,
   "metadata": {},
   "outputs": [],
   "source": []
  }
 ],
 "metadata": {
  "kernelspec": {
   "display_name": "base",
   "language": "python",
   "name": "python3"
  },
  "language_info": {
   "codemirror_mode": {
    "name": "ipython",
    "version": 3
   },
   "file_extension": ".py",
   "mimetype": "text/x-python",
   "name": "python",
   "nbconvert_exporter": "python",
   "pygments_lexer": "ipython3",
   "version": "3.9.12"
  },
  "orig_nbformat": 4
 },
 "nbformat": 4,
 "nbformat_minor": 2
}
