{
 "cells": [
  {
   "cell_type": "code",
   "execution_count": 101,
   "metadata": {},
   "outputs": [],
   "source": [
    "from pulp import *\n",
    "import pandas as pd"
   ]
  },
  {
   "cell_type": "markdown",
   "metadata": {},
   "source": [
    "### Dataset"
   ]
  },
  {
   "cell_type": "code",
   "execution_count": 102,
   "metadata": {},
   "outputs": [],
   "source": [
    "I = [\"NY\", \"Rm\", \"Mh\", \"Ba\", \"Va\"]  # set of facilities\n",
    "J = [\"Missi\", \"Bramt\"]  # set of DCs\n",
    "W = [\"NY_reg\", \"NY_half\"] # set of options for NY\n",
    "F = {\n",
    "    \"NY\": {'NY_reg':315, 'NY_half':157.5},    \n",
    "    \"Rm\": 305,\n",
    "    \"Mh\": 295,\n",
    "    \"Ba\": 160,\n",
    "    \"Va\": 200,\n",
    "}#Fixed cost of facilities\n",
    "C = {\n",
    "    \"NY\": {'NY_reg':12.5, 'NY_half':6.25}, \n",
    "    \"Rm\": 15,\n",
    "    \"Mh\": 21,\n",
    "    \"Ba\": 27.5,\n",
    "    \"Va\": 25,\n",
    "}\n",
    "SC = {\n",
    "    'NY': {'Missi': 5, 'Bramt': 6},\n",
    "    'Rm': {'Missi': 7, 'Bramt': 8},\n",
    "    'Mh': {'Missi': 12, 'Bramt': 9},\n",
    "    'Ba': {'Missi': 17, 'Bramt': 15},\n",
    "    'Va': {'Missi': 4, 'Bramt': 3}\n",
    "}\n",
    "D={'Missi':29.5, 'Bramt':12.5} # demands of the DCs"
   ]
  },
  {
   "cell_type": "markdown",
   "metadata": {},
   "source": [
    "### DataFrame"
   ]
  },
  {
   "cell_type": "code",
   "execution_count": 103,
   "metadata": {},
   "outputs": [
    {
     "data": {
      "text/html": [
       "<div>\n",
       "<style scoped>\n",
       "    .dataframe tbody tr th:only-of-type {\n",
       "        vertical-align: middle;\n",
       "    }\n",
       "\n",
       "    .dataframe tbody tr th {\n",
       "        vertical-align: top;\n",
       "    }\n",
       "\n",
       "    .dataframe thead th {\n",
       "        text-align: right;\n",
       "    }\n",
       "</style>\n",
       "<table border=\"1\" class=\"dataframe\">\n",
       "  <thead>\n",
       "    <tr style=\"text-align: right;\">\n",
       "      <th></th>\n",
       "      <th>NY</th>\n",
       "      <th>Rm</th>\n",
       "      <th>Mh</th>\n",
       "      <th>Ba</th>\n",
       "      <th>Va</th>\n",
       "    </tr>\n",
       "  </thead>\n",
       "  <tbody>\n",
       "    <tr>\n",
       "      <th>NY_half</th>\n",
       "      <td>157.5</td>\n",
       "      <td>305</td>\n",
       "      <td>295</td>\n",
       "      <td>160</td>\n",
       "      <td>200</td>\n",
       "    </tr>\n",
       "    <tr>\n",
       "      <th>NY_reg</th>\n",
       "      <td>315.0</td>\n",
       "      <td>305</td>\n",
       "      <td>295</td>\n",
       "      <td>160</td>\n",
       "      <td>200</td>\n",
       "    </tr>\n",
       "  </tbody>\n",
       "</table>\n",
       "</div>"
      ],
      "text/plain": [
       "            NY   Rm   Mh   Ba   Va\n",
       "NY_half  157.5  305  295  160  200\n",
       "NY_reg   315.0  305  295  160  200"
      ]
     },
     "execution_count": 103,
     "metadata": {},
     "output_type": "execute_result"
    }
   ],
   "source": [
    "df_F = pd.DataFrame(F)\n",
    "df_F"
   ]
  },
  {
   "cell_type": "code",
   "execution_count": 104,
   "metadata": {},
   "outputs": [
    {
     "data": {
      "text/html": [
       "<div>\n",
       "<style scoped>\n",
       "    .dataframe tbody tr th:only-of-type {\n",
       "        vertical-align: middle;\n",
       "    }\n",
       "\n",
       "    .dataframe tbody tr th {\n",
       "        vertical-align: top;\n",
       "    }\n",
       "\n",
       "    .dataframe thead th {\n",
       "        text-align: right;\n",
       "    }\n",
       "</style>\n",
       "<table border=\"1\" class=\"dataframe\">\n",
       "  <thead>\n",
       "    <tr style=\"text-align: right;\">\n",
       "      <th></th>\n",
       "      <th>NY</th>\n",
       "      <th>Rm</th>\n",
       "      <th>Mh</th>\n",
       "      <th>Ba</th>\n",
       "      <th>Va</th>\n",
       "    </tr>\n",
       "  </thead>\n",
       "  <tbody>\n",
       "    <tr>\n",
       "      <th>Missi</th>\n",
       "      <td>5</td>\n",
       "      <td>7</td>\n",
       "      <td>12</td>\n",
       "      <td>17</td>\n",
       "      <td>4</td>\n",
       "    </tr>\n",
       "    <tr>\n",
       "      <th>Bramt</th>\n",
       "      <td>6</td>\n",
       "      <td>8</td>\n",
       "      <td>9</td>\n",
       "      <td>15</td>\n",
       "      <td>3</td>\n",
       "    </tr>\n",
       "  </tbody>\n",
       "</table>\n",
       "</div>"
      ],
      "text/plain": [
       "       NY  Rm  Mh  Ba  Va\n",
       "Missi   5   7  12  17   4\n",
       "Bramt   6   8   9  15   3"
      ]
     },
     "execution_count": 104,
     "metadata": {},
     "output_type": "execute_result"
    }
   ],
   "source": [
    "df_SC = pd.DataFrame(SC)\n",
    "df_SC"
   ]
  },
  {
   "cell_type": "markdown",
   "metadata": {},
   "source": [
    "### Create Model"
   ]
  },
  {
   "cell_type": "code",
   "execution_count": 105,
   "metadata": {},
   "outputs": [],
   "source": [
    "model = LpProblem(\"Production_Facilities_Multiple\", LpMinimize)"
   ]
  },
  {
   "cell_type": "markdown",
   "metadata": {},
   "source": [
    "### Create DVars"
   ]
  },
  {
   "cell_type": "code",
   "execution_count": 106,
   "metadata": {},
   "outputs": [],
   "source": [
    "x = LpVariable.dicts(\"x\", (I, J), lowBound=0, cat='Continuous')\n",
    "y = LpVariable.dicts(\"y\", (I, W), 0, 1, LpBinary)"
   ]
  },
  {
   "cell_type": "markdown",
   "metadata": {},
   "source": [
    "### Objective Functions & Constraints"
   ]
  },
  {
   "cell_type": "code",
   "execution_count": 107,
   "metadata": {},
   "outputs": [],
   "source": [
    "model += lpSum(F[i][w] * y[i][w] for i in I for w in W if i == \"NY\") + lpSum(F[i] * y[i][w] for i in I for w in W if i != \"NY\") + lpSum(SC[i][j] * x[i][j] for i in I for j in J), \"Objective\""
   ]
  },
  {
   "cell_type": "markdown",
   "metadata": {},
   "source": [
    "#### only one option(w) should be selected"
   ]
  },
  {
   "cell_type": "code",
   "execution_count": 108,
   "metadata": {},
   "outputs": [],
   "source": [
    "for i in I:\n",
    "    if i == \"NY\":\n",
    "        model += lpSum(y[i][w] for w in W) <= 1, f\"at_least_one_{i}__can_be_chosen\""
   ]
  },
  {
   "cell_type": "code",
   "execution_count": 109,
   "metadata": {},
   "outputs": [],
   "source": [
    "for j in J:\n",
    "    model += lpSum(x[i][j] for i in I) == 1, f\"every DC_{j}_ is served by at least one facility\""
   ]
  },
  {
   "cell_type": "code",
   "execution_count": 110,
   "metadata": {},
   "outputs": [],
   "source": [
    "for i in I:\n",
    "    model += lpSum(D[j] * x[i][j] for j in J) <= lpSum(F[i][w] * y[i][w] for w in W if i == \"NY\") + lpSum(F[i] * y[i][w] for w in W if i != \"NY\"), f\"{i} satisfying demand\"\n"
   ]
  },
  {
   "cell_type": "code",
   "execution_count": 111,
   "metadata": {},
   "outputs": [],
   "source": [
    "for j in J:\n",
    "    for i in I:\n",
    "        model += x[i][j] <= lpSum(y[i][w] for w in W), f\"m-Must be open to supply_{i}_{j}\""
   ]
  },
  {
   "cell_type": "code",
   "execution_count": 112,
   "metadata": {},
   "outputs": [
    {
     "data": {
      "text/plain": [
       "[x_Ba_Bramt,\n",
       " x_Ba_Missi,\n",
       " x_Mh_Bramt,\n",
       " x_Mh_Missi,\n",
       " x_NY_Bramt,\n",
       " x_NY_Missi,\n",
       " x_Rm_Bramt,\n",
       " x_Rm_Missi,\n",
       " x_Va_Bramt,\n",
       " x_Va_Missi,\n",
       " y_Ba_NY_half,\n",
       " y_Ba_NY_reg,\n",
       " y_Mh_NY_half,\n",
       " y_Mh_NY_reg,\n",
       " y_NY_NY_half,\n",
       " y_NY_NY_reg,\n",
       " y_Rm_NY_half,\n",
       " y_Rm_NY_reg,\n",
       " y_Va_NY_half,\n",
       " y_Va_NY_reg]"
      ]
     },
     "execution_count": 112,
     "metadata": {},
     "output_type": "execute_result"
    }
   ],
   "source": [
    "model.writeLP('Production_Facilities_Multiple_2nd_Trial')"
   ]
  },
  {
   "cell_type": "code",
   "execution_count": 113,
   "metadata": {},
   "outputs": [
    {
     "data": {
      "text/plain": [
       "1"
      ]
     },
     "execution_count": 113,
     "metadata": {},
     "output_type": "execute_result"
    }
   ],
   "source": [
    "model.solve()"
   ]
  },
  {
   "cell_type": "code",
   "execution_count": 114,
   "metadata": {},
   "outputs": [
    {
     "name": "stdout",
     "output_type": "stream",
     "text": [
      "Status: 1\n",
      "Optimal Solution:\n",
      "x[NY][Missi] = 1.0\n",
      "x[NY][Bramt] = 1.0\n",
      "x[Rm][Missi] = 0.0\n",
      "x[Rm][Bramt] = 0.0\n",
      "x[Mh][Missi] = 0.0\n",
      "x[Mh][Bramt] = 0.0\n",
      "x[Ba][Missi] = 0.0\n",
      "x[Ba][Bramt] = 0.0\n",
      "x[Va][Missi] = 0.0\n",
      "x[Va][Bramt] = 0.0\n",
      "y[NY][NY_reg] = 0.0\n",
      "y[NY][NY_half] = 1.0\n",
      "y[Rm][NY_reg] = 0.0\n",
      "y[Rm][NY_half] = 0.0\n",
      "y[Mh][NY_reg] = 0.0\n",
      "y[Mh][NY_half] = 0.0\n",
      "y[Ba][NY_reg] = 0.0\n",
      "y[Ba][NY_half] = 0.0\n",
      "y[Va][NY_reg] = 0.0\n",
      "y[Va][NY_half] = 0.0\n",
      "Optimal Profit = 168.5\n"
     ]
    }
   ],
   "source": [
    "print(\"Status:\", model.status)\n",
    "print(\"Optimal Solution:\")\n",
    "# Print values of x\n",
    "for i in I:\n",
    "    for j in J:\n",
    "        print(f\"x[{i}][{j}] =\", x[i][j].varValue)\n",
    "# Print values of y\n",
    "for i in I:\n",
    "    for w in W:\n",
    "        print(f\"y[{i}][{w}] =\", y[i][w].varValue)\n",
    "    \n",
    "print(\"Optimal Profit =\", model.objective.value())"
   ]
  }
 ],
 "metadata": {
  "kernelspec": {
   "display_name": "base",
   "language": "python",
   "name": "python3"
  },
  "language_info": {
   "codemirror_mode": {
    "name": "ipython",
    "version": 3
   },
   "file_extension": ".py",
   "mimetype": "text/x-python",
   "name": "python",
   "nbconvert_exporter": "python",
   "pygments_lexer": "ipython3",
   "version": "3.9.12"
  },
  "orig_nbformat": 4
 },
 "nbformat": 4,
 "nbformat_minor": 2
}
