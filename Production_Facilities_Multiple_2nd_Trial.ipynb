{
 "cells": [
  {
   "cell_type": "code",
   "execution_count": 2,
   "metadata": {},
   "outputs": [],
   "source": [
    "from pulp import *\n"
   ]
  },
  {
   "cell_type": "code",
   "execution_count": 3,
   "metadata": {},
   "outputs": [],
   "source": [
    "I = [\"NY\", \"Rm\", \"Mh\", \"Ba\", \"Va\"]  # set of facilities\n",
    "J = [\"Missi\", \"Bramt\"]  # set of DCs\n",
    "W = [\"NY_reg\", \"NY_half\"] # set of options for NY\n",
    "F = {\n",
    "    \"NY\": {'NY_reg':315, 'NY_half':157.5},    \n",
    "    \"Rm\": 305,\n",
    "    \"Mh\": 295,\n",
    "    \"Ba\": 160,\n",
    "    \"Va\": 200,\n",
    "}#Fixed cost of facilities\n",
    "C = {\n",
    "    \"NY\": {'NY_reg':12.5, 'NY_half':6.25}, \n",
    "    \"Rm\": 15,\n",
    "    \"Mh\": 21,\n",
    "    \"Ba\": 27.5,\n",
    "    \"Va\": 25,\n",
    "}\n",
    "SC = {\n",
    "    'NY': {'Missi': 5, 'Bramt': 6},\n",
    "    'Rm': {'Missi': 7, 'Bramt': 8},\n",
    "    'Mh': {'Missi': 12, 'Bramt': 9},\n",
    "    'Ba': {'Missi': 17, 'Bramt': 15},\n",
    "    'Va': {'Missi': 4, 'Bramt': 3}\n",
    "}\n",
    "D={'Missi':29.5, 'Bramt':12.5} # demands of the DCs"
   ]
  },
  {
   "cell_type": "code",
   "execution_count": 4,
   "metadata": {},
   "outputs": [],
   "source": [
    "model = LpProblem(\"Production_Facilities_Multiple\", LpMinimize)"
   ]
  },
  {
   "cell_type": "code",
   "execution_count": 5,
   "metadata": {},
   "outputs": [],
   "source": [
    "x = LpVariable.dicts(\"x\", (I, J), lowBound=0, cat='Continuous')\n",
    "y = LpVariable.dicts(\"y\", (I, W), 0, 1, LpBinary)"
   ]
  },
  {
   "cell_type": "code",
   "execution_count": 6,
   "metadata": {},
   "outputs": [],
   "source": [
    "model += lpSum(F[i][w] * y[i][w] for i in I for w in W if i == \"NY\") + lpSum(F[i] * y[i][w] for i in I for w in W if i != \"NY\") + lpSum(SC[i][j] * x[i][j] for i in I for j in J), \"Objective\""
   ]
  },
  {
   "cell_type": "code",
   "execution_count": 14,
   "metadata": {},
   "outputs": [],
   "source": [
    "for i in I:\n",
    "    if i == \"NY\":\n",
    "        model += lpSum(y[i][w] for w in W) <= 1, f\"one should be chosen_{i}\""
   ]
  },
  {
   "cell_type": "code",
   "execution_count": 18,
   "metadata": {},
   "outputs": [],
   "source": [
    "for j in J:\n",
    "    model += lpSum(x[i][j] for i in I) == 1, f\"every DC {j} is served by at least one facility\""
   ]
  },
  {
   "cell_type": "code",
   "execution_count": 19,
   "metadata": {},
   "outputs": [],
   "source": [
    "for i in I:\n",
    "    model += lpSum(D[j] * x[i][j] for j in J) <= lpSum(F[i][w] * y[i][w] for i in I for w in W if i == \"NY\") + lpSum(F[i] * y[i][w] for i in I for w in W if i != \"NY\"), f\"Satisfy_Capacity_and_Demand{i}\""
   ]
  },
  {
   "cell_type": "code",
   "execution_count": 20,
   "metadata": {},
   "outputs": [],
   "source": [
    "for j in J:\n",
    "    for i in I:\n",
    "        model += x[i][j] <= lpSum(y[i][w] for w in W), f\"m-Must be open to supply {i}{j}\""
   ]
  },
  {
   "cell_type": "code",
   "execution_count": 24,
   "metadata": {},
   "outputs": [
    {
     "data": {
      "text/plain": [
       "[x_Ba_Bramt,\n",
       " x_Ba_Missi,\n",
       " x_Mh_Bramt,\n",
       " x_Mh_Missi,\n",
       " x_NY_Bramt,\n",
       " x_NY_Missi,\n",
       " x_Rm_Bramt,\n",
       " x_Rm_Missi,\n",
       " x_Va_Bramt,\n",
       " x_Va_Missi,\n",
       " y_Ba_NY_half,\n",
       " y_Ba_NY_reg,\n",
       " y_Mh_NY_half,\n",
       " y_Mh_NY_reg,\n",
       " y_NY_NY_half,\n",
       " y_NY_NY_reg,\n",
       " y_Rm_NY_half,\n",
       " y_Rm_NY_reg,\n",
       " y_Va_NY_half,\n",
       " y_Va_NY_reg]"
      ]
     },
     "execution_count": 24,
     "metadata": {},
     "output_type": "execute_result"
    }
   ],
   "source": [
    "model.writeLP('Production_Facilities_Multiple_2nd_Trial')"
   ]
  },
  {
   "cell_type": "code",
   "execution_count": 22,
   "metadata": {},
   "outputs": [
    {
     "data": {
      "text/plain": [
       "1"
      ]
     },
     "execution_count": 22,
     "metadata": {},
     "output_type": "execute_result"
    }
   ],
   "source": [
    "model.solve()"
   ]
  },
  {
   "cell_type": "code",
   "execution_count": 23,
   "metadata": {},
   "outputs": [
    {
     "name": "stdout",
     "output_type": "stream",
     "text": [
      "Status: 1\n",
      "Optimal Solution:\n",
      "x[NY][Missi] = 1.0\n",
      "x[NY][Bramt] = 1.0\n",
      "x[Rm][Missi] = 0.0\n",
      "x[Rm][Bramt] = 0.0\n",
      "x[Mh][Missi] = 0.0\n",
      "x[Mh][Bramt] = 0.0\n",
      "x[Ba][Missi] = 0.0\n",
      "x[Ba][Bramt] = 0.0\n",
      "x[Va][Missi] = 0.0\n",
      "x[Va][Bramt] = 0.0\n",
      "y[NY][NY_reg] = 0.0\n",
      "y[NY][NY_half] = 1.0\n",
      "y[Rm][NY_reg] = 0.0\n",
      "y[Rm][NY_half] = 0.0\n",
      "y[Mh][NY_reg] = 0.0\n",
      "y[Mh][NY_half] = 0.0\n",
      "y[Ba][NY_reg] = 0.0\n",
      "y[Ba][NY_half] = 0.0\n",
      "y[Va][NY_reg] = 0.0\n",
      "y[Va][NY_half] = 0.0\n",
      "Optimal Profit = 168.5\n"
     ]
    }
   ],
   "source": [
    "print(\"Status:\", model.status)\n",
    "print(\"Optimal Solution:\")\n",
    "# Print values of x\n",
    "for i in I:\n",
    "    for j in J:\n",
    "        print(f\"x[{i}][{j}] =\", x[i][j].varValue)\n",
    "# Print values of y\n",
    "for i in I:\n",
    "    for w in W:\n",
    "        print(f\"y[{i}][{w}] =\", y[i][w].varValue)\n",
    "    \n",
    "print(\"Optimal Profit =\", model.objective.value())"
   ]
  }
 ],
 "metadata": {
  "kernelspec": {
   "display_name": "base",
   "language": "python",
   "name": "python3"
  },
  "language_info": {
   "codemirror_mode": {
    "name": "ipython",
    "version": 3
   },
   "file_extension": ".py",
   "mimetype": "text/x-python",
   "name": "python",
   "nbconvert_exporter": "python",
   "pygments_lexer": "ipython3",
   "version": "3.9.12"
  },
  "orig_nbformat": 4
 },
 "nbformat": 4,
 "nbformat_minor": 2
}
