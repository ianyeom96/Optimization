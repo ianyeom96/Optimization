{
 "cells": [
  {
   "cell_type": "code",
   "execution_count": 1,
   "metadata": {},
   "outputs": [],
   "source": [
    "from pulp import *\n",
    "import pandas as pd"
   ]
  },
  {
   "cell_type": "code",
   "execution_count": 4,
   "metadata": {},
   "outputs": [],
   "source": [
    "\n",
    "I = [\"NY_reg\", \"NY_half\", \"Rm\", \"Mh\", \"Ba\", \"Va\"]  # set of facilities\n",
    "J = [\"Missi\", \"Bramt\"]  # set of DCs\n",
    "F = {\n",
    "    \"NY_reg\": 315,    # Regular fixed cost for 'NY'\n",
    "    \"NY_half\": 157.5,  # Half capacity fixed cost for 'NY'\n",
    "    \"Rm\": 305,\n",
    "    \"Mh\": 295,\n",
    "    \"Ba\": 160,\n",
    "    \"Va\": 200\n",
    "}#Fixed cost of facilities\n",
    "C = {\n",
    "    \"NY_reg\": 12.5,   # Regular capacity for 'NY'\n",
    "    \"NY_half\": 6.25,  # Half capacity for 'NY'\n",
    "    \"Rm\": 15,\n",
    "    \"Mh\": 21,\n",
    "    \"Ba\": 27.5,\n",
    "    \"Va\": 25\n",
    "}\n",
    "SC = {\n",
    "    'NY_reg': {'Missi': 5, 'Bramt': 6},    # Shipping costs from 'NY_reg'\n",
    "    'NY_half': {'Missi': 5, 'Bramt': 6},  # Shipping costs from 'NY_half'\n",
    "    'Rm': {'Missi': 7, 'Bramt': 8},\n",
    "    'Mh': {'Missi': 12, 'Bramt': 9},\n",
    "    'Ba': {'Missi': 17, 'Bramt': 15},\n",
    "    'Va': {'Missi': 4, 'Bramt': 3}\n",
    "}\n",
    "D={'Missi':29.5, 'Bramt':12.5} # demands of the DCs"
   ]
  },
  {
   "cell_type": "code",
   "execution_count": 8,
   "metadata": {},
   "outputs": [
    {
     "data": {
      "text/plain": [
       "{'NY_reg': 315, 'NY_half': 157.5, 'Rm': 305, 'Mh': 295, 'Ba': 160, 'Va': 200}"
      ]
     },
     "execution_count": 8,
     "metadata": {},
     "output_type": "execute_result"
    }
   ],
   "source": [
    "F"
   ]
  },
  {
   "cell_type": "code",
   "execution_count": 9,
   "metadata": {},
   "outputs": [
    {
     "data": {
      "text/html": [
       "<div>\n",
       "<style scoped>\n",
       "    .dataframe tbody tr th:only-of-type {\n",
       "        vertical-align: middle;\n",
       "    }\n",
       "\n",
       "    .dataframe tbody tr th {\n",
       "        vertical-align: top;\n",
       "    }\n",
       "\n",
       "    .dataframe thead th {\n",
       "        text-align: right;\n",
       "    }\n",
       "</style>\n",
       "<table border=\"1\" class=\"dataframe\">\n",
       "  <thead>\n",
       "    <tr style=\"text-align: right;\">\n",
       "      <th></th>\n",
       "      <th>NY_reg</th>\n",
       "      <th>NY_half</th>\n",
       "      <th>Rm</th>\n",
       "      <th>Mh</th>\n",
       "      <th>Ba</th>\n",
       "      <th>Va</th>\n",
       "    </tr>\n",
       "  </thead>\n",
       "  <tbody>\n",
       "    <tr>\n",
       "      <th>Missi</th>\n",
       "      <td>5</td>\n",
       "      <td>5</td>\n",
       "      <td>7</td>\n",
       "      <td>12</td>\n",
       "      <td>17</td>\n",
       "      <td>4</td>\n",
       "    </tr>\n",
       "    <tr>\n",
       "      <th>Bramt</th>\n",
       "      <td>6</td>\n",
       "      <td>6</td>\n",
       "      <td>8</td>\n",
       "      <td>9</td>\n",
       "      <td>15</td>\n",
       "      <td>3</td>\n",
       "    </tr>\n",
       "  </tbody>\n",
       "</table>\n",
       "</div>"
      ],
      "text/plain": [
       "       NY_reg  NY_half  Rm  Mh  Ba  Va\n",
       "Missi       5        5   7  12  17   4\n",
       "Bramt       6        6   8   9  15   3"
      ]
     },
     "execution_count": 9,
     "metadata": {},
     "output_type": "execute_result"
    }
   ],
   "source": [
    "df_SC = pd.DataFrame(SC)\n",
    "df_SC"
   ]
  },
  {
   "cell_type": "code",
   "execution_count": null,
   "metadata": {},
   "outputs": [],
   "source": [
    "model = LpProblem(\"Production_Facilities_Multiple\", LpMinimize)"
   ]
  },
  {
   "cell_type": "code",
   "execution_count": null,
   "metadata": {},
   "outputs": [],
   "source": [
    "x = LpVariable.dicts(\"x\", (I, J), lowBound=0, cat='Continuous')\n",
    "y = LpVariable.dicts(\"y\", I, 0, 1, LpBinary)"
   ]
  },
  {
   "cell_type": "code",
   "execution_count": null,
   "metadata": {},
   "outputs": [],
   "source": [
    "model += lpSum(F[i] * y[i] for i in I) + lpSum(SC[i][j] * x[i][j] for i in I for j in J), \"Obj\""
   ]
  },
  {
   "cell_type": "code",
   "execution_count": null,
   "metadata": {},
   "outputs": [],
   "source": [
    "model += y[\"NY_reg\"] + y[\"NY_half\"] <= 1, \"Only one option should be selected\""
   ]
  },
  {
   "cell_type": "code",
   "execution_count": null,
   "metadata": {},
   "outputs": [],
   "source": [
    "for i in I:\n",
    "    model += lpSum(x[i][j] for j in J) <= C[i] * y[i], f\"Satisfy_Capacity_{i}\""
   ]
  },
  {
   "cell_type": "code",
   "execution_count": null,
   "metadata": {},
   "outputs": [],
   "source": [
    "for j in J:\n",
    "    model += lpSum(x[i][j] for i in I) == 1"
   ]
  },
  {
   "cell_type": "code",
   "execution_count": null,
   "metadata": {},
   "outputs": [],
   "source": [
    "for j in J:\n",
    "    for i in I:\n",
    "        model += x[i][j] <= y[i], f\"m-Must be open to supply {i}{j}\""
   ]
  },
  {
   "cell_type": "code",
   "execution_count": null,
   "metadata": {},
   "outputs": [],
   "source": [
    "for j in J:\n",
    "    model += lpSum(x[i][j] for i in I) >= D[j], f\"Satisfy demands of {j}\""
   ]
  },
  {
   "cell_type": "code",
   "execution_count": null,
   "metadata": {},
   "outputs": [
    {
     "data": {
      "text/plain": [
       "[x_Ba_Bramt,\n",
       " x_Ba_Missi,\n",
       " x_Mh_Bramt,\n",
       " x_Mh_Missi,\n",
       " x_NY_half_Bramt,\n",
       " x_NY_half_Missi,\n",
       " x_NY_reg_Bramt,\n",
       " x_NY_reg_Missi,\n",
       " x_Rm_Bramt,\n",
       " x_Rm_Missi,\n",
       " x_Va_Bramt,\n",
       " x_Va_Missi,\n",
       " y_Ba,\n",
       " y_Mh,\n",
       " y_NY_half,\n",
       " y_NY_reg,\n",
       " y_Rm,\n",
       " y_Va]"
      ]
     },
     "execution_count": 36,
     "metadata": {},
     "output_type": "execute_result"
    }
   ],
   "source": [
    "model.writeLP(\"Production_Facilities_Multiple\")"
   ]
  },
  {
   "cell_type": "code",
   "execution_count": null,
   "metadata": {},
   "outputs": [
    {
     "data": {
      "text/plain": [
       "-1"
      ]
     },
     "execution_count": 37,
     "metadata": {},
     "output_type": "execute_result"
    }
   ],
   "source": [
    "model.solve()"
   ]
  },
  {
   "cell_type": "code",
   "execution_count": null,
   "metadata": {},
   "outputs": [
    {
     "name": "stdout",
     "output_type": "stream",
     "text": [
      "Status: -1\n",
      "Optimal Solution:\n",
      "x[NY_reg][Missi] = 29.5\n",
      "x[NY_reg][Bramt] = 0.0\n",
      "x[NY_half][Missi] = 0.0\n",
      "x[NY_half][Bramt] = 0.0\n",
      "x[Rm][Missi] = 0.0\n",
      "x[Rm][Bramt] = 0.0\n",
      "x[Mh][Missi] = 0.0\n",
      "x[Mh][Bramt] = 0.0\n",
      "x[Ba][Missi] = 0.0\n",
      "x[Ba][Bramt] = 0.0\n",
      "x[Va][Missi] = 0.0\n",
      "x[Va][Bramt] = 0.0\n",
      "y[NY_reg] = 0.0\n",
      "y[NY_half] = 0.0\n",
      "y[Rm] = 0.0\n",
      "y[Mh] = 0.0\n",
      "y[Ba] = 0.0\n",
      "y[Va] = 0.0\n",
      "Optimal Profit = 147.5\n"
     ]
    }
   ],
   "source": [
    "print(\"Status:\", model.status)\n",
    "print(\"Optimal Solution:\")\n",
    "# Print values of x\n",
    "for i in I:\n",
    "    for j in J:\n",
    "        print(f\"x[{i}][{j}] =\", x[i][j].varValue)\n",
    "# Print values of y\n",
    "for i in I:\n",
    "    print(f\"y[{i}] =\", y[i].varValue)\n",
    "    \n",
    "print(\"Optimal Profit =\", model.objective.value())"
   ]
  },
  {
   "cell_type": "code",
   "execution_count": null,
   "metadata": {},
   "outputs": [],
   "source": []
  }
 ],
 "metadata": {
  "kernelspec": {
   "display_name": "base",
   "language": "python",
   "name": "python3"
  },
  "language_info": {
   "codemirror_mode": {
    "name": "ipython",
    "version": 3
   },
   "file_extension": ".py",
   "mimetype": "text/x-python",
   "name": "python",
   "nbconvert_exporter": "python",
   "pygments_lexer": "ipython3",
   "version": "3.9.12"
  },
  "orig_nbformat": 4
 },
 "nbformat": 4,
 "nbformat_minor": 2
}
