{
 "cells": [
  {
   "cell_type": "code",
   "execution_count": 1,
   "metadata": {},
   "outputs": [],
   "source": [
    "from pulp import *\n",
    "import pandas as pd"
   ]
  },
  {
   "cell_type": "markdown",
   "metadata": {},
   "source": [
    "### Make DataFrames from excel files\n",
    "index_col = 0, means the first column of the dataframe is used as row lable\n",
    "squeeze = 'TRUE', if parsed data has only one column then return it a series"
   ]
  },
  {
   "cell_type": "code",
   "execution_count": 6,
   "metadata": {},
   "outputs": [
    {
     "name": "stderr",
     "output_type": "stream",
     "text": [
      "C:\\Users\\ehdwn\\AppData\\Local\\Temp\\ipykernel_12068\\3843704639.py:2: FutureWarning: The squeeze argument has been deprecated and will be removed in a future version. Append .squeeze(\"columns\") to the call to squeeze.\n",
      "\n",
      "\n",
      "  FC=pd.read_excel('LAGD_wlp.xlsx', sheet_name = 'f_cost', index_col = 0, squeeze = 'TRUE')\n"
     ]
    }
   ],
   "source": [
    "AC=pd.read_excel('LAGD_wlp.xlsx', sheet_name = 'assign_cost', index_col = 0)\n",
    "FC=pd.read_excel('LAGD_wlp.xlsx', sheet_name = 'f_cost', index_col = 0, squeeze = 'TRUE')"
   ]
  },
  {
   "cell_type": "code",
   "execution_count": 7,
   "metadata": {},
   "outputs": [
    {
     "data": {
      "text/html": [
       "<div>\n",
       "<style scoped>\n",
       "    .dataframe tbody tr th:only-of-type {\n",
       "        vertical-align: middle;\n",
       "    }\n",
       "\n",
       "    .dataframe tbody tr th {\n",
       "        vertical-align: top;\n",
       "    }\n",
       "\n",
       "    .dataframe thead th {\n",
       "        text-align: right;\n",
       "    }\n",
       "</style>\n",
       "<table border=\"1\" class=\"dataframe\">\n",
       "  <thead>\n",
       "    <tr style=\"text-align: right;\">\n",
       "      <th></th>\n",
       "      <th>0</th>\n",
       "      <th>1</th>\n",
       "      <th>2</th>\n",
       "      <th>3</th>\n",
       "      <th>4</th>\n",
       "      <th>5</th>\n",
       "      <th>6</th>\n",
       "    </tr>\n",
       "  </thead>\n",
       "  <tbody>\n",
       "    <tr>\n",
       "      <th>A</th>\n",
       "      <td>1</td>\n",
       "      <td>2</td>\n",
       "      <td>10</td>\n",
       "      <td>9</td>\n",
       "      <td>6</td>\n",
       "      <td>7</td>\n",
       "      <td>3</td>\n",
       "    </tr>\n",
       "    <tr>\n",
       "      <th>B</th>\n",
       "      <td>2</td>\n",
       "      <td>9</td>\n",
       "      <td>0</td>\n",
       "      <td>7</td>\n",
       "      <td>3</td>\n",
       "      <td>6</td>\n",
       "      <td>10</td>\n",
       "    </tr>\n",
       "    <tr>\n",
       "      <th>C</th>\n",
       "      <td>7</td>\n",
       "      <td>6</td>\n",
       "      <td>1</td>\n",
       "      <td>5</td>\n",
       "      <td>3</td>\n",
       "      <td>10</td>\n",
       "      <td>5</td>\n",
       "    </tr>\n",
       "    <tr>\n",
       "      <th>D</th>\n",
       "      <td>6</td>\n",
       "      <td>5</td>\n",
       "      <td>10</td>\n",
       "      <td>2</td>\n",
       "      <td>6</td>\n",
       "      <td>3</td>\n",
       "      <td>6</td>\n",
       "    </tr>\n",
       "    <tr>\n",
       "      <th>E</th>\n",
       "      <td>6</td>\n",
       "      <td>4</td>\n",
       "      <td>6</td>\n",
       "      <td>3</td>\n",
       "      <td>7</td>\n",
       "      <td>2</td>\n",
       "      <td>6</td>\n",
       "    </tr>\n",
       "  </tbody>\n",
       "</table>\n",
       "</div>"
      ],
      "text/plain": [
       "   0  1   2  3  4   5   6\n",
       "A  1  2  10  9  6   7   3\n",
       "B  2  9   0  7  3   6  10\n",
       "C  7  6   1  5  3  10   5\n",
       "D  6  5  10  2  6   3   6\n",
       "E  6  4   6  3  7   2   6"
      ]
     },
     "execution_count": 7,
     "metadata": {},
     "output_type": "execute_result"
    }
   ],
   "source": [
    "AC"
   ]
  },
  {
   "cell_type": "code",
   "execution_count": 8,
   "metadata": {},
   "outputs": [
    {
     "data": {
      "text/plain": [
       "locations\n",
       "A    5\n",
       "B    7\n",
       "C    5\n",
       "D    6\n",
       "E    5\n",
       "Name: fi, dtype: int64"
      ]
     },
     "execution_count": 8,
     "metadata": {},
     "output_type": "execute_result"
    }
   ],
   "source": [
    "FC"
   ]
  },
  {
   "cell_type": "markdown",
   "metadata": {},
   "source": [
    "### Convert the DataFrame to dictionary\n",
    "orient=\"index\", convert like {index -> {column -> value}}, for example 'ac' below"
   ]
  },
  {
   "cell_type": "code",
   "execution_count": 9,
   "metadata": {},
   "outputs": [],
   "source": [
    "ac=AC.to_dict(orient=\"index\")\n",
    "fc=FC.to_dict()"
   ]
  },
  {
   "cell_type": "code",
   "execution_count": 10,
   "metadata": {},
   "outputs": [
    {
     "data": {
      "text/plain": [
       "{'A': {0: 1, 1: 2, 2: 10, 3: 9, 4: 6, 5: 7, 6: 3},\n",
       " 'B': {0: 2, 1: 9, 2: 0, 3: 7, 4: 3, 5: 6, 6: 10},\n",
       " 'C': {0: 7, 1: 6, 2: 1, 3: 5, 4: 3, 5: 10, 6: 5},\n",
       " 'D': {0: 6, 1: 5, 2: 10, 3: 2, 4: 6, 5: 3, 6: 6},\n",
       " 'E': {0: 6, 1: 4, 2: 6, 3: 3, 4: 7, 5: 2, 6: 6}}"
      ]
     },
     "execution_count": 10,
     "metadata": {},
     "output_type": "execute_result"
    }
   ],
   "source": [
    "ac"
   ]
  },
  {
   "cell_type": "code",
   "execution_count": 11,
   "metadata": {},
   "outputs": [
    {
     "data": {
      "text/plain": [
       "{'A': 5, 'B': 7, 'C': 5, 'D': 6, 'E': 5}"
      ]
     },
     "execution_count": 11,
     "metadata": {},
     "output_type": "execute_result"
    }
   ],
   "source": [
    "fc"
   ]
  },
  {
   "cell_type": "markdown",
   "metadata": {},
   "source": [
    "### Convert the index or column from the DataFrame to list"
   ]
  },
  {
   "cell_type": "code",
   "execution_count": 17,
   "metadata": {},
   "outputs": [],
   "source": [
    "I=AC.index.tolist()\n",
    "J=AC.columns.tolist()"
   ]
  },
  {
   "cell_type": "code",
   "execution_count": 18,
   "metadata": {},
   "outputs": [
    {
     "data": {
      "text/plain": [
       "['A', 'B', 'C', 'D', 'E']"
      ]
     },
     "execution_count": 18,
     "metadata": {},
     "output_type": "execute_result"
    }
   ],
   "source": [
    "I"
   ]
  },
  {
   "cell_type": "code",
   "execution_count": 19,
   "metadata": {},
   "outputs": [
    {
     "data": {
      "text/plain": [
       "[0, 1, 2, 3, 4, 5, 6]"
      ]
     },
     "execution_count": 19,
     "metadata": {},
     "output_type": "execute_result"
    }
   ],
   "source": [
    "J"
   ]
  },
  {
   "cell_type": "code",
   "execution_count": 21,
   "metadata": {},
   "outputs": [],
   "source": [
    "model = pulp.LpProblem(\"Plant_Location_Problem\", LpMinimize)"
   ]
  },
  {
   "cell_type": "code",
   "execution_count": 22,
   "metadata": {},
   "outputs": [],
   "source": [
    "x = LpVariable.dicts('x', (I,J), 0, 1, LpBinary)\n",
    "y = LpVariable.dicts('y', (I), 0, 1, LpBinary)"
   ]
  },
  {
   "cell_type": "code",
   "execution_count": 23,
   "metadata": {},
   "outputs": [
    {
     "data": {
      "text/plain": [
       "{'A': {0: x_A_0, 1: x_A_1, 2: x_A_2, 3: x_A_3, 4: x_A_4, 5: x_A_5, 6: x_A_6},\n",
       " 'B': {0: x_B_0, 1: x_B_1, 2: x_B_2, 3: x_B_3, 4: x_B_4, 5: x_B_5, 6: x_B_6},\n",
       " 'C': {0: x_C_0, 1: x_C_1, 2: x_C_2, 3: x_C_3, 4: x_C_4, 5: x_C_5, 6: x_C_6},\n",
       " 'D': {0: x_D_0, 1: x_D_1, 2: x_D_2, 3: x_D_3, 4: x_D_4, 5: x_D_5, 6: x_D_6},\n",
       " 'E': {0: x_E_0, 1: x_E_1, 2: x_E_2, 3: x_E_3, 4: x_E_4, 5: x_E_5, 6: x_E_6}}"
      ]
     },
     "execution_count": 23,
     "metadata": {},
     "output_type": "execute_result"
    }
   ],
   "source": [
    "x"
   ]
  },
  {
   "cell_type": "code",
   "execution_count": 24,
   "metadata": {},
   "outputs": [
    {
     "data": {
      "text/plain": [
       "{'A': y_A, 'B': y_B, 'C': y_C, 'D': y_D, 'E': y_E}"
      ]
     },
     "execution_count": 24,
     "metadata": {},
     "output_type": "execute_result"
    }
   ],
   "source": [
    "y"
   ]
  },
  {
   "cell_type": "code",
   "execution_count": 25,
   "metadata": {},
   "outputs": [],
   "source": [
    "model += lpSum (fc[i] *y[i] for i in I)+  pulp.lpSum(ac [i][j] * x[i][j] for i in I for j in J ),\" objective function \""
   ]
  },
  {
   "cell_type": "code",
   "execution_count": 26,
   "metadata": {},
   "outputs": [],
   "source": [
    "for j in J :\n",
    "    model += lpSum(x[i][j] for i in I ) == 1,f\"satisfy demand {j}\"\n",
    "    \n",
    "for j in J:\n",
    "    for i in I:\n",
    "        model += x[i][j] <= y[i] ,f\"serve from existing facilities {i}-{j}\""
   ]
  },
  {
   "cell_type": "code",
   "execution_count": 27,
   "metadata": {},
   "outputs": [
    {
     "data": {
      "text/plain": [
       "[x_A_0,\n",
       " x_A_1,\n",
       " x_A_2,\n",
       " x_A_3,\n",
       " x_A_4,\n",
       " x_A_5,\n",
       " x_A_6,\n",
       " x_B_0,\n",
       " x_B_1,\n",
       " x_B_2,\n",
       " x_B_3,\n",
       " x_B_4,\n",
       " x_B_5,\n",
       " x_B_6,\n",
       " x_C_0,\n",
       " x_C_1,\n",
       " x_C_2,\n",
       " x_C_3,\n",
       " x_C_4,\n",
       " x_C_5,\n",
       " x_C_6,\n",
       " x_D_0,\n",
       " x_D_1,\n",
       " x_D_2,\n",
       " x_D_3,\n",
       " x_D_4,\n",
       " x_D_5,\n",
       " x_D_6,\n",
       " x_E_0,\n",
       " x_E_1,\n",
       " x_E_2,\n",
       " x_E_3,\n",
       " x_E_4,\n",
       " x_E_5,\n",
       " x_E_6,\n",
       " y_A,\n",
       " y_B,\n",
       " y_C,\n",
       " y_D,\n",
       " y_E]"
      ]
     },
     "execution_count": 27,
     "metadata": {},
     "output_type": "execute_result"
    }
   ],
   "source": [
    "model.writeLP(\"Plant_Location_Problem\")"
   ]
  },
  {
   "cell_type": "code",
   "execution_count": 28,
   "metadata": {},
   "outputs": [
    {
     "data": {
      "text/plain": [
       "1"
      ]
     },
     "execution_count": 28,
     "metadata": {},
     "output_type": "execute_result"
    }
   ],
   "source": [
    "model.solve()"
   ]
  },
  {
   "cell_type": "code",
   "execution_count": 30,
   "metadata": {},
   "outputs": [
    {
     "name": "stdout",
     "output_type": "stream",
     "text": [
      "x_A_0 = 1.0\n",
      "x_A_1 = 1.0\n",
      "x_A_6 = 1.0\n",
      "x_C_2 = 1.0\n",
      "x_C_4 = 1.0\n",
      "x_E_3 = 1.0\n",
      "x_E_5 = 1.0\n",
      "y_A = 1.0\n",
      "y_C = 1.0\n",
      "y_E = 1.0\n"
     ]
    }
   ],
   "source": [
    "for  var in  model.variables():\n",
    "    if var.varValue >0:\n",
    "        print(var.name ,\"=\", var.varValue)"
   ]
  },
  {
   "cell_type": "code",
   "execution_count": null,
   "metadata": {},
   "outputs": [],
   "source": []
  }
 ],
 "metadata": {
  "kernelspec": {
   "display_name": "base",
   "language": "python",
   "name": "python3"
  },
  "language_info": {
   "codemirror_mode": {
    "name": "ipython",
    "version": 3
   },
   "file_extension": ".py",
   "mimetype": "text/x-python",
   "name": "python",
   "nbconvert_exporter": "python",
   "pygments_lexer": "ipython3",
   "version": "3.9.12"
  },
  "orig_nbformat": 4
 },
 "nbformat": 4,
 "nbformat_minor": 2
}
