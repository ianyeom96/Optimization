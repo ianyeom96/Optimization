{
 "cells": [
  {
   "cell_type": "code",
   "execution_count": 1,
   "metadata": {},
   "outputs": [],
   "source": [
    "from pulp import *"
   ]
  },
  {
   "cell_type": "markdown",
   "metadata": {},
   "source": [
    "# Optimization Modelling\n",
    "A company is planning to increase their production facilities in one or more of the cities in I.\n",
    "This model specify all the objective, constraints and assumptions as well as single sourcing. "
   ]
  },
  {
   "cell_type": "markdown",
   "metadata": {},
   "source": [
    "### DATA SET"
   ]
  },
  {
   "cell_type": "code",
   "execution_count": 41,
   "metadata": {},
   "outputs": [],
   "source": [
    "I=[\"NY\", \"Rm\", \"Mh\", \"Ba\", \"Va\"] #set of facilities\n",
    "J=[\"Missi\", \"Bramt\"] #set of DCs\n",
    "F={\"NY\": 315, \"Rm\": 305, \"Mh\": 295, \"Ba\":160, \"Va\":200} #Fixed cost of facilities\n",
    "C={\"NY\": 12.5, \"Rm\": 15, \"Mh\": 21, \"Ba\":27.5, \"Va\":25} #Production Capacity of facilities\n"
   ]
  },
  {
   "cell_type": "code",
   "execution_count": 42,
   "metadata": {},
   "outputs": [],
   "source": [
    "SC = {\n",
    "    'NY': {'Missi': 5, 'Bramt': 6},  # shipping costs from i to j\n",
    "    'Rm': {'Missi': 7, 'Bramt': 8},\n",
    "    'Mh': {'Missi': 12, 'Bramt': 9},\n",
    "    'Ba': {'Missi': 17, 'Bramt': 15},\n",
    "    'Va': {'Missi': 4, 'Bramt': 3}\n",
    "}"
   ]
  },
  {
   "cell_type": "code",
   "execution_count": 43,
   "metadata": {},
   "outputs": [],
   "source": [
    "model = LpProblem(\"Production_Facility\", LpMinimize)"
   ]
  },
  {
   "cell_type": "markdown",
   "metadata": {},
   "source": [
    "### DVar"
   ]
  },
  {
   "cell_type": "code",
   "execution_count": 44,
   "metadata": {},
   "outputs": [],
   "source": [
    "x = LpVariable.dicts(\"x\", (I,J), 0, 1, LpBinary)\n",
    "y = LpVariable.dicts(\"y\", (I), 0, 1, LpBinary)"
   ]
  },
  {
   "cell_type": "markdown",
   "metadata": {},
   "source": [
    "### Obj"
   ]
  },
  {
   "cell_type": "code",
   "execution_count": 45,
   "metadata": {},
   "outputs": [],
   "source": [
    "model += lpSum(F[i]*y[i] for i in I) + lpSum(SC[i][j]*x[i][j] for i in I for j in J), \" objective \"\n"
   ]
  },
  {
   "cell_type": "markdown",
   "metadata": {},
   "source": [
    "### Constraints"
   ]
  },
  {
   "cell_type": "code",
   "execution_count": 46,
   "metadata": {},
   "outputs": [],
   "source": [
    "for j in J:\n",
    "    model += lpSum(x[i][j] for i in I) == 1, f\"Satisfy demand {j}\""
   ]
  },
  {
   "cell_type": "code",
   "execution_count": 47,
   "metadata": {},
   "outputs": [],
   "source": [
    "model += lpSum(y[i] for i in I) <= 3, \"No more than three\""
   ]
  },
  {
   "cell_type": "code",
   "execution_count": 48,
   "metadata": {},
   "outputs": [],
   "source": [
    "model += y[\"Va\"] == 1, \" Va should be open\""
   ]
  },
  {
   "cell_type": "code",
   "execution_count": 49,
   "metadata": {},
   "outputs": [],
   "source": [
    "for j in J:\n",
    "    for i in I:\n",
    "        model += x[i][j] <= y[i], f\"Must be open to supply{i}{j}\""
   ]
  },
  {
   "cell_type": "code",
   "execution_count": 50,
   "metadata": {},
   "outputs": [
    {
     "data": {
      "text/plain": [
       "[x_Ba_Bramt,\n",
       " x_Ba_Missi,\n",
       " x_Mh_Bramt,\n",
       " x_Mh_Missi,\n",
       " x_NY_Bramt,\n",
       " x_NY_Missi,\n",
       " x_Rm_Bramt,\n",
       " x_Rm_Missi,\n",
       " x_Va_Bramt,\n",
       " x_Va_Missi,\n",
       " y_Ba,\n",
       " y_Mh,\n",
       " y_NY,\n",
       " y_Rm,\n",
       " y_Va]"
      ]
     },
     "execution_count": 50,
     "metadata": {},
     "output_type": "execute_result"
    }
   ],
   "source": [
    "model.writeLP(\"Production_Facilities\")"
   ]
  },
  {
   "cell_type": "code",
   "execution_count": 51,
   "metadata": {},
   "outputs": [
    {
     "data": {
      "text/plain": [
       "1"
      ]
     },
     "execution_count": 51,
     "metadata": {},
     "output_type": "execute_result"
    }
   ],
   "source": [
    "model.solve()"
   ]
  },
  {
   "cell_type": "markdown",
   "metadata": {},
   "source": [
    "## Results"
   ]
  },
  {
   "cell_type": "code",
   "execution_count": 52,
   "metadata": {},
   "outputs": [
    {
     "name": "stdout",
     "output_type": "stream",
     "text": [
      " Status: Optimal\n",
      " objective  value:  207.0\n"
     ]
    }
   ],
   "source": [
    "print(\" Status:\",LpStatus[model.status ])\n",
    "print(\" objective  value: \",value(model.objective ))"
   ]
  },
  {
   "cell_type": "code",
   "execution_count": 53,
   "metadata": {},
   "outputs": [
    {
     "name": "stdout",
     "output_type": "stream",
     "text": [
      "x_Ba_Bramt = 0.0\n",
      "x_Ba_Missi = 0.0\n",
      "x_Mh_Bramt = 0.0\n",
      "x_Mh_Missi = 0.0\n",
      "x_NY_Bramt = 0.0\n",
      "x_NY_Missi = 0.0\n",
      "x_Rm_Bramt = 0.0\n",
      "x_Rm_Missi = 0.0\n",
      "x_Va_Bramt = 1.0\n",
      "x_Va_Missi = 1.0\n",
      "y_Ba = 0.0\n",
      "y_Mh = 0.0\n",
      "y_NY = 0.0\n",
      "y_Rm = 0.0\n",
      "y_Va = 1.0\n"
     ]
    }
   ],
   "source": [
    "for  var in  model.variables():\n",
    "#if var.varValue >0:\n",
    "    print(var.name ,\"=\", var.varValue)"
   ]
  }
 ],
 "metadata": {
  "kernelspec": {
   "display_name": "base",
   "language": "python",
   "name": "python3"
  },
  "language_info": {
   "codemirror_mode": {
    "name": "ipython",
    "version": 3
   },
   "file_extension": ".py",
   "mimetype": "text/x-python",
   "name": "python",
   "nbconvert_exporter": "python",
   "pygments_lexer": "ipython3",
   "version": "3.9.12"
  },
  "orig_nbformat": 4
 },
 "nbformat": 4,
 "nbformat_minor": 2
}
